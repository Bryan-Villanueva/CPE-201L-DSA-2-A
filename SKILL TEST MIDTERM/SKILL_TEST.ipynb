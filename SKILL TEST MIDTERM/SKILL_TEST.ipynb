{
  "nbformat": 4,
  "nbformat_minor": 0,
  "metadata": {
    "colab": {
      "provenance": [],
      "authorship_tag": "ABX9TyMhnENMh3ROEDlmEJESXjN7",
      "include_colab_link": true
    },
    "kernelspec": {
      "name": "python3",
      "display_name": "Python 3"
    },
    "language_info": {
      "name": "python"
    }
  },
  "cells": [
    {
      "cell_type": "markdown",
      "metadata": {
        "id": "view-in-github",
        "colab_type": "text"
      },
      "source": [
        "<a href=\"https://colab.research.google.com/github/Bryan-Villanueva/CPE-201L-DSA-2-A/blob/main/SKILL_TEST.ipynb\" target=\"_parent\"><img src=\"https://colab.research.google.com/assets/colab-badge.svg\" alt=\"Open In Colab\"/></a>"
      ]
    },
    {
      "cell_type": "markdown",
      "source": [
        "# **MY FIRST WAY**"
      ],
      "metadata": {
        "id": "kjPUvc7Tdsb-"
      }
    },
    {
      "cell_type": "code",
      "source": [
        "class Node:\n",
        "    def __init__(self, data):\n",
        "        self.data = data\n",
        "        self.next = None\n",
        "\n",
        "class LinkedList:\n",
        "    def __init__(self):\n",
        "        self.head = None\n",
        "\n",
        "    def append(self, data):\n",
        "        new_node = Node(data)\n",
        "        if not self.head:\n",
        "            self.head = new_node\n",
        "            return\n",
        "        current = self.head\n",
        "        while current.next:\n",
        "            current = current.next\n",
        "        current.next = new_node\n",
        "\n",
        "    def traverse(self):\n",
        "        current = self.head\n",
        "        while current:\n",
        "            print(current.data)\n",
        "            current = current.next\n",
        "\n",
        "name = \"BRYAN ONTUCA VILLANUEVA\"\n",
        "linked_list = LinkedList()\n",
        "\n",
        "for char in name:\n",
        "    linked_list.append(char)\n",
        "\n",
        "linked_list.traverse()\n"
      ],
      "metadata": {
        "colab": {
          "base_uri": "https://localhost:8080/"
        },
        "id": "U1fZzYCSbp10",
        "outputId": "cfbc1ed9-c888-43c1-fb0c-847ad6782f34"
      },
      "execution_count": null,
      "outputs": [
        {
          "output_type": "stream",
          "name": "stdout",
          "text": [
            "B\n",
            "R\n",
            "Y\n",
            "A\n",
            "N\n",
            " \n",
            "O\n",
            "N\n",
            "T\n",
            "U\n",
            "C\n",
            "A\n",
            " \n",
            "V\n",
            "I\n",
            "L\n",
            "L\n",
            "A\n",
            "N\n",
            "U\n",
            "E\n",
            "V\n",
            "A\n"
          ]
        }
      ]
    },
    {
      "cell_type": "markdown",
      "source": [
        "# **MY SECOND WAY**"
      ],
      "metadata": {
        "id": "KOwTIlAqdy7r"
      }
    },
    {
      "cell_type": "code",
      "source": [
        "class Node:\n",
        "\n",
        "    def __init__(self, data):\n",
        "        self.data = data\n",
        "        self.next = None\n",
        "class LinkedList:\n",
        "\n",
        "    def __init__(self):\n",
        "        self.head = None\n",
        "\n",
        "    def print_all(self):\n",
        "      current = self.head\n",
        "      while current:\n",
        "        print(current.data)\n",
        "        current = current.next\n",
        "\n",
        "if __name__=='__main__':\n",
        "\n",
        "    llist = LinkedList()\n",
        "\n",
        "    llist.head = Node(\"B\")\n",
        "    second = Node(\"R\")\n",
        "    third = Node(\"Y\")\n",
        "    fourth = Node(\"A\")\n",
        "    fifth = Node(\"N\")\n",
        "    sixth = Node(\" \")\n",
        "    seventh = Node(\"O.\")\n",
        "    eighth = Node(\" \")\n",
        "    ninth = Node(\"V\")\n",
        "    tenth = Node(\"I\")\n",
        "    eleventh = Node(\"L\")\n",
        "    twelvth = Node(\"L\")\n",
        "    thirteenth = Node(\"A\")\n",
        "    fourteenth = Node(\"N\")\n",
        "    fifteenth = Node(\"U\")\n",
        "    sixteenth = Node(\"E\")\n",
        "    seventeenth = Node(\"V\")\n",
        "    eighteenth = Node(\"A\")\n",
        "\n",
        "    llist.head.next = second\n",
        "    second.next = third\n",
        "    third.next = fourth\n",
        "    fourth.next = fifth\n",
        "    fifth.next = sixth\n",
        "    sixth.next = seventh\n",
        "    seventh.next = eighth\n",
        "    eighth.next = ninth\n",
        "    ninth.next = tenth\n",
        "    tenth.next = eleventh\n",
        "    eleventh.next = twelvth\n",
        "    twelvth.next = thirteenth\n",
        "    thirteenth.next = fourteenth\n",
        "    fourteenth.next = fifteenth\n",
        "    fifteenth.next = sixteenth\n",
        "    sixteenth.next = seventeenth\n",
        "    seventeenth.next = eighteenth\n",
        "\n",
        "    llist.print_all()"
      ],
      "metadata": {
        "colab": {
          "base_uri": "https://localhost:8080/"
        },
        "id": "57RalUDHWQZM",
        "outputId": "771f312b-0eb8-4971-c567-369d9cf4aaed"
      },
      "execution_count": null,
      "outputs": [
        {
          "output_type": "stream",
          "name": "stdout",
          "text": [
            "B\n",
            "R\n",
            "Y\n",
            "A\n",
            "N\n",
            " \n",
            "O.\n",
            " \n",
            "V\n",
            "I\n",
            "L\n",
            "L\n",
            "A\n",
            "N\n",
            "U\n",
            "E\n",
            "V\n",
            "A\n"
          ]
        }
      ]
    }
  ]
}