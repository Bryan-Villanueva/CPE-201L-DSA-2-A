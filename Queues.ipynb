{
  "nbformat": 4,
  "nbformat_minor": 0,
  "metadata": {
    "colab": {
      "provenance": [],
      "authorship_tag": "ABX9TyPOJFCtUtBz3WeTvgWKK4mR",
      "include_colab_link": true
    },
    "kernelspec": {
      "name": "python3",
      "display_name": "Python 3"
    },
    "language_info": {
      "name": "python"
    }
  },
  "cells": [
    {
      "cell_type": "markdown",
      "metadata": {
        "id": "view-in-github",
        "colab_type": "text"
      },
      "source": [
        "<a href=\"https://colab.research.google.com/github/Bryan-Villanueva/CPE-201L-DSA-2-A/blob/main/Queues.ipynb\" target=\"_parent\"><img src=\"https://colab.research.google.com/assets/colab-badge.svg\" alt=\"Open In Colab\"/></a>"
      ]
    },
    {
      "cell_type": "code",
      "source": [
        "class Queue:\n",
        "    def __init__(self):\n",
        "        self.queue = []\n",
        "\n",
        "    def enqueue(self, dataval):\n",
        "        # Use list append method to add element\n",
        "        if dataval not in self.queue:\n",
        "            self.queue.append(dataval)\n",
        "            return True\n",
        "        else:\n",
        "            return False\n",
        "\n",
        "    def dequeue(self):\n",
        "        # Remove and return the first element (FIFO)\n",
        "        if len(self.queue) <= 0:\n",
        "            return \"Queue is empty\"\n",
        "        else:\n",
        "            return self.queue.pop(0)   # fixed\n",
        "\n",
        "    def display(self):\n",
        "        for item in self.queue:       # fixed (no reversed)\n",
        "            print(item)\n",
        "\n",
        "\n",
        "AQueue = Queue()\n",
        "AQueue.enqueue(\"Sun\")\n",
        "AQueue.enqueue(\"Mon\")\n",
        "AQueue.enqueue(\"Tue\")\n",
        "AQueue.enqueue(\"Wed\")\n",
        "AQueue.enqueue(\"Thu\")\n",
        "AQueue.enqueue(\"Fri\")\n",
        "AQueue.enqueue(\"Sat\")\n",
        "\n",
        "print(AQueue.dequeue())   # will remove \"Sun\"\n",
        "AQueue.display()\n"
      ],
      "metadata": {
        "id": "Ac9v7SqY6Zu1",
        "outputId": "a977ec1e-2397-4e65-825e-b39381e54beb",
        "colab": {
          "base_uri": "https://localhost:8080/"
        }
      },
      "execution_count": null,
      "outputs": [
        {
          "output_type": "stream",
          "name": "stdout",
          "text": [
            "Sun\n",
            "Mon\n",
            "Tue\n",
            "Wed\n",
            "Thu\n",
            "Fri\n",
            "Sat\n"
          ]
        }
      ]
    },
    {
      "cell_type": "code",
      "source": [
        "class Queue:\n",
        "    def __init__(self):\n",
        "        self.items = []\n",
        "\n",
        "    def enqueue(self, value):\n",
        "        if value not in self.items:\n",
        "            self.items.append(value)\n",
        "            return True\n",
        "        return False\n",
        "\n",
        "    def dequeue(self):\n",
        "        return self.items.pop(0) if self.items else \"Queue is empty\"\n",
        "\n",
        "    def display(self):\n",
        "        print(\"Queue:\", \" -> \".join(self.items))\n",
        "\n",
        "    def empty_queue(self):\n",
        "        self.items.clear()\n",
        "        print(\"Queue has been emptied\")\n",
        "\n",
        "    def top_element(self):\n",
        "        return f\"TOP: {self.items[-1]}\" if self.items else \"Queue is empty\"\n",
        "\n",
        "    def head_queue(self):\n",
        "        return f\"HEAD: {self.items[0]}\" if self.items else \"Queue is empty\"\n",
        "\n",
        "    def tail_queue(self):\n",
        "        return f\"TAIL: {self.items[1:]}\" if len(self.items) > 1 else \"No tail elements\"\n",
        "\n",
        "\n",
        "# Test\n",
        "my_queue = Queue()\n",
        "for day in [\"Sun\", \"Mon\", \"Tue\", \"Wed\", \"Thu\", \"Fri\", \"Sat\"]:\n",
        "    my_queue.enqueue(day)\n",
        "\n",
        "print(my_queue.head_queue())\n",
        "print(my_queue.top_element())\n",
        "print(my_queue.tail_queue())\n",
        "\n",
        "print(\"\\nDequeued:\", my_queue.dequeue())\n",
        "my_queue.display()\n",
        "\n",
        "print(my_queue.head_queue())\n",
        "print(my_queue.tail_queue())\n",
        "my_queue.display()\n",
        "print(my_queue.top_element())\n"
      ],
      "metadata": {
        "id": "fH2xLIlpJmuF",
        "outputId": "c916cf13-9151-4b9e-edb2-89bf97191563",
        "colab": {
          "base_uri": "https://localhost:8080/"
        }
      },
      "execution_count": null,
      "outputs": [
        {
          "output_type": "stream",
          "name": "stdout",
          "text": [
            "HEAD: Sun\n",
            "TOP: Sat\n",
            "TAIL: ['Mon', 'Tue', 'Wed', 'Thu', 'Fri', 'Sat']\n",
            "\n",
            "Dequeued: Sun\n",
            "Queue: Mon -> Tue -> Wed -> Thu -> Fri -> Sat\n",
            "HEAD: Mon\n",
            "TAIL: ['Tue', 'Wed', 'Thu', 'Fri', 'Sat']\n",
            "Queue: Mon -> Tue -> Wed -> Thu -> Fri -> Sat\n",
            "TOP: Sat\n"
          ]
        }
      ]
    }
  ]
}