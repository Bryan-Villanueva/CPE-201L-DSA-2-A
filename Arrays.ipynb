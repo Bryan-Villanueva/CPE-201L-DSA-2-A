{
  "cells": [
    {
      "cell_type": "markdown",
      "metadata": {
        "id": "view-in-github",
        "colab_type": "text"
      },
      "source": [
        "<a href=\"https://colab.research.google.com/github/Bryan-Villanueva/CPE-201L-DSA-2-A/blob/main/Arrays.ipynb\" target=\"_parent\"><img src=\"https://colab.research.google.com/assets/colab-badge.svg\" alt=\"Open In Colab\"/></a>"
      ]
    },
    {
      "cell_type": "code",
      "execution_count": null,
      "metadata": {
        "colab": {
          "background_save": true,
          "base_uri": "https://localhost:8080/"
        },
        "id": "xrIND5FYXAxg",
        "outputId": "f6cd1248-8e39-421b-cd0e-3ede892b2904"
      },
      "outputs": [
        {
          "metadata": {
            "tags": null
          },
          "name": "stdout",
          "output_type": "stream",
          "text": [
            "Original array: [10, 20, 30, 40, 50]\n",
            "\n",
            "Menu:\n",
            "1. Traverse array\n",
            "2. Reverse array\n",
            "3. Sort array\n",
            "4. Insert element\n",
            "5. Delete element\n",
            "6. Exit\n",
            "Traversing the array:\n",
            "Index 0: 10\n",
            "Index 1: 20\n",
            "Index 2: 30\n",
            "Index 3: 40\n",
            "Index 4: 50\n",
            "\n",
            "Menu:\n",
            "1. Traverse array\n",
            "2. Reverse array\n",
            "3. Sort array\n",
            "4. Insert element\n",
            "5. Delete element\n",
            "6. Exit\n",
            "[50, 40, 30, 20, 10]\n",
            "\n",
            "Menu:\n",
            "1. Traverse array\n",
            "2. Reverse array\n",
            "3. Sort array\n",
            "4. Insert element\n",
            "5. Delete element\n",
            "6. Exit\n",
            "[10, 20, 30, 40, 50]\n",
            "\n",
            "Menu:\n",
            "1. Traverse array\n",
            "2. Reverse array\n",
            "3. Sort array\n",
            "4. Insert element\n",
            "5. Delete element\n",
            "6. Exit\n",
            "Updated array: [10, 20, 30, 80, 40, 50]\n",
            "\n",
            "Menu:\n",
            "1. Traverse array\n",
            "2. Reverse array\n",
            "3. Sort array\n",
            "4. Insert element\n",
            "5. Delete element\n",
            "6. Exit\n",
            "Updated array: [10, 30, 80, 40, 50]\n",
            "\n",
            "Menu:\n",
            "1. Traverse array\n",
            "2. Reverse array\n",
            "3. Sort array\n",
            "4. Insert element\n",
            "5. Delete element\n",
            "6. Exit\n"
          ]
        }
      ],
      "source": [
        "def traverse_array(arr):\n",
        "    # Function to traverse and print all elements in the array\n",
        "    print(\"Traversing the array:\")\n",
        "    for i, element in enumerate(arr):\n",
        "        print(f\"Index {i}: {element}\")\n",
        "\n",
        "def reverse(arr):\n",
        "    reverse_arr = arr[::-1]\n",
        "    print(reverse_arr)\n",
        "\n",
        "def sort_array(arr):\n",
        "    sorted_arr = sorted(arr)\n",
        "    print(sorted_arr)\n",
        "\n",
        "def insert_element(arr, element, index):\n",
        "    arr.insert(index, element)\n",
        "    return arr\n",
        "\n",
        "def delete_element(arr, index):\n",
        "    del arr[index]\n",
        "    return arr\n",
        "\n",
        "def main():\n",
        "    # Initialize an array\n",
        "    arr = [10, 20, 30, 40, 50]\n",
        "    print(\"Original array:\", arr)\n",
        "\n",
        "    while True:\n",
        "        print(\"\\nMenu:\")\n",
        "        print(\"1. Traverse array\")\n",
        "        print(\"2. Reverse array\")\n",
        "        print(\"3. Sort array\")\n",
        "        print(\"4. Insert element\")\n",
        "        print(\"5. Delete element\")\n",
        "        print(\"6. Exit\")\n",
        "        choice = input(\"Enter your choice (1-6): \")\n",
        "\n",
        "        if choice == '1':\n",
        "            traverse_array(arr)\n",
        "        elif choice == '2':\n",
        "            reverse(arr)\n",
        "        elif choice == '3':\n",
        "            sort_array(arr)\n",
        "        elif choice == '4':\n",
        "            element = int(input(\"Enter the element to insert: \"))\n",
        "            index = int(input(\"Enter the index to insert at: \"))\n",
        "            arr = insert_element(arr, element, index)\n",
        "            print(\"Updated array:\", arr)\n",
        "        elif choice == '5':\n",
        "            index = int(input(\"Enter the index of the element to delete: \"))\n",
        "            arr = delete_element(arr, index)\n",
        "            print(\"Updated array:\", arr)\n",
        "        elif choice == '6':\n",
        "          print(\"Program Existing\")\n",
        "\n",
        "if __name__ == \"__main__\":\n",
        "    main()"
      ]
    }
  ],
  "metadata": {
    "colab": {
      "provenance": [],
      "authorship_tag": "ABX9TyNB5yxflo0HmwtSwFInLTHS",
      "include_colab_link": true
    },
    "kernelspec": {
      "display_name": "Python 3",
      "name": "python3"
    },
    "language_info": {
      "name": "python"
    }
  },
  "nbformat": 4,
  "nbformat_minor": 0
}