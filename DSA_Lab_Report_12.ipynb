{
  "nbformat": 4,
  "nbformat_minor": 0,
  "metadata": {
    "colab": {
      "provenance": [],
      "authorship_tag": "ABX9TyO+HvLnWloKFZ5DfZpe/yM2",
      "include_colab_link": true
    },
    "kernelspec": {
      "name": "python3",
      "display_name": "Python 3"
    },
    "language_info": {
      "name": "python"
    }
  },
  "cells": [
    {
      "cell_type": "markdown",
      "metadata": {
        "id": "view-in-github",
        "colab_type": "text"
      },
      "source": [
        "<a href=\"https://colab.research.google.com/github/Bryan-Villanueva/CPE-201L-DSA-2-A/blob/main/DSA_Lab_Report_12.ipynb\" target=\"_parent\"><img src=\"https://colab.research.google.com/assets/colab-badge.svg\" alt=\"Open In Colab\"/></a>"
      ]
    },
    {
      "cell_type": "markdown",
      "source": [
        "# **GRAPH IMPLEMENTATION**"
      ],
      "metadata": {
        "id": "An7p2Z1IZsqL"
      }
    },
    {
      "cell_type": "code",
      "execution_count": 10,
      "metadata": {
        "id": "mrNoL1y5Za7c"
      },
      "outputs": [],
      "source": [
        "from collections import deque\n",
        "import time\n",
        "\n",
        "class Graph:\n",
        "    def __init__(self):\n",
        "        self.adj_list = {}\n",
        "\n",
        "    def add_vertex(self, vertex):\n",
        "        if vertex not in self.adj_list:\n",
        "            self.adj_list[vertex] = []\n",
        "\n",
        "    def add_edge(self, vertex1, vertex2, directed=False):\n",
        "        self.add_vertex(vertex1)\n",
        "        self.add_vertex(vertex2)\n",
        "\n",
        "        self.adj_list[vertex1].append(vertex2)\n",
        "        if not directed:\n",
        "            self.adj_list[vertex2].append(vertex1)\n",
        "\n",
        "    def display(self):\n",
        "        for vertex, neighbors in self.adj_list.items():\n",
        "            print(f\"{vertex}: {neighbors}\")"
      ]
    },
    {
      "cell_type": "markdown",
      "source": [
        "# **DFS IMPLEMENTATION**"
      ],
      "metadata": {
        "id": "JpoIaW-7Z6wX"
      }
    },
    {
      "cell_type": "code",
      "source": [
        "def dfs_recursive(graph, start, visited=None, path=None):\n",
        "    if visited is None:\n",
        "        visited = set()\n",
        "    if path is None:\n",
        "        path = []\n",
        "\n",
        "    visited.add(start)\n",
        "    path.append(start)\n",
        "    print(f\"Visiting: {start}\")\n",
        "\n",
        "    for neighbor in graph.adj_list[start]:\n",
        "        if neighbor not in visited:\n",
        "            dfs_recursive(graph, neighbor, visited, path)\n",
        "\n",
        "    return path\n",
        "\n",
        "def dfs_iterative(graph, start):\n",
        "    visited = set()\n",
        "    stack = [start]\n",
        "    path = []\n",
        "\n",
        "    print(\"DFS Iterative Traversal:\")\n",
        "    while stack:\n",
        "        vertex = stack.pop()\n",
        "        if vertex not in visited:\n",
        "            visited.add(vertex)\n",
        "            path.append(vertex)\n",
        "            print(f\"Visiting: {vertex}\")\n",
        "\n",
        "            # Add neighbors in reverse order for same behavior as recursive\n",
        "            for neighbor in reversed(graph.adj_list[vertex]):\n",
        "                if neighbor not in visited:\n",
        "                    stack.append(neighbor)\n",
        "    return path\n"
      ],
      "metadata": {
        "id": "Mtp9wa9jZ_OT"
      },
      "execution_count": 11,
      "outputs": []
    },
    {
      "cell_type": "markdown",
      "source": [
        "# **BFS IMPLEMENTATION**"
      ],
      "metadata": {
        "id": "Iuaivk5maB4w"
      }
    },
    {
      "cell_type": "code",
      "source": [
        "def bfs(graph, start):\n",
        "    visited = set()\n",
        "    queue = deque([start])\n",
        "    path = []\n",
        "\n",
        "    print(\"BFS Traversal:\")\n",
        "    while queue:\n",
        "        vertex = queue.popleft()\n",
        "        if vertex not in visited:\n",
        "            visited.add(vertex)\n",
        "            path.append(vertex)\n",
        "            print(f\"Visiting: {vertex}\")\n",
        "\n",
        "            for neighbor in graph.adj_list[vertex]:\n",
        "                if neighbor not in visited:\n",
        "                    queue.append(neighbor)\n",
        "\n",
        "    return path"
      ],
      "metadata": {
        "id": "e36F7kGAaFu4"
      },
      "execution_count": 12,
      "outputs": []
    }
  ]
}