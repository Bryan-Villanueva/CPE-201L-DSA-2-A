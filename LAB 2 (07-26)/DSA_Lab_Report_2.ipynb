{
  "nbformat": 4,
  "nbformat_minor": 0,
  "metadata": {
    "colab": {
      "provenance": [],
      "authorship_tag": "ABX9TyO4vFlSQKq411NiNfJVobZK",
      "include_colab_link": true
    },
    "kernelspec": {
      "name": "python3",
      "display_name": "Python 3"
    },
    "language_info": {
      "name": "python"
    }
  },
  "cells": [
    {
      "cell_type": "markdown",
      "metadata": {
        "id": "view-in-github",
        "colab_type": "text"
      },
      "source": [
        "<a href=\"https://colab.research.google.com/github/Bryan-Villanueva/CPE-201L-DSA-2-A/blob/main/DSA_Lab_Report_2.ipynb\" target=\"_parent\"><img src=\"https://colab.research.google.com/assets/colab-badge.svg\" alt=\"Open In Colab\"/></a>"
      ]
    },
    {
      "cell_type": "code",
      "execution_count": 8,
      "metadata": {
        "id": "73eHB_MSrEsf",
        "colab": {
          "base_uri": "https://localhost:8080/"
        },
        "outputId": "d831d1b0-c78d-4726-e4f7-1b6433768092"
      },
      "outputs": [
        {
          "output_type": "stream",
          "name": "stdout",
          "text": [
            "Min: 1 Max: 9\n"
          ]
        }
      ],
      "source": [
        "def min_max(num):\n",
        "    if len(num) == 1:\n",
        "        return num[0], num[0]\n",
        "    else:\n",
        "        min_val, max_val = min_max(num[1:])\n",
        "        return (num[0] if num[0] < min_val else min_val,\n",
        "                num[0] if num[0] > max_val else max_val)\n",
        "\n",
        "number = [5, 2, 9, 1, 7]\n",
        "min, max = min_max(number)\n",
        "print(\"Min:\", min, \"Max:\", max)"
      ]
    }
  ]
}