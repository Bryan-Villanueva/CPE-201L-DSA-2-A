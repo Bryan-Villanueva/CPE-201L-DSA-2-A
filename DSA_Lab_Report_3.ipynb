{
  "nbformat": 4,
  "nbformat_minor": 0,
  "metadata": {
    "colab": {
      "provenance": [],
      "authorship_tag": "ABX9TyM6ShCiGzczB7QnpMJaQNal",
      "include_colab_link": true
    },
    "kernelspec": {
      "name": "python3",
      "display_name": "Python 3"
    },
    "language_info": {
      "name": "python"
    }
  },
  "cells": [
    {
      "cell_type": "markdown",
      "metadata": {
        "id": "view-in-github",
        "colab_type": "text"
      },
      "source": [
        "<a href=\"https://colab.research.google.com/github/Bryan-Villanueva/CPE-201L-DSA-2-A/blob/main/DSA_Lab_Report_3.ipynb\" target=\"_parent\"><img src=\"https://colab.research.google.com/assets/colab-badge.svg\" alt=\"Open In Colab\"/></a>"
      ]
    },
    {
      "cell_type": "markdown",
      "source": [
        "**Algorithm That Add Even Numbers**"
      ],
      "metadata": {
        "id": "Q1sdxatsabOC"
      }
    },
    {
      "cell_type": "code",
      "execution_count": 33,
      "metadata": {
        "colab": {
          "base_uri": "https://localhost:8080/"
        },
        "id": "CuXKqiojYMNl",
        "outputId": "0492679b-d3e7-4d4a-ae25-4bee0396092e"
      },
      "outputs": [
        {
          "output_type": "stream",
          "name": "stdout",
          "text": [
            "The sum of even numbers is: 186\n"
          ]
        }
      ],
      "source": [
        "# sum variable\n",
        "sum = 0\n",
        "\n",
        "# List of test scores\n",
        "numbers = [26, 49, 98, 87, 62, 75]\n",
        "\n",
        "# Loop through each number in the list\n",
        "for number in numbers:\n",
        "    # Check if the number is even\n",
        "    if number % 2 == 0:\n",
        "        # Add even number to the sum\n",
        "        sum = sum + number\n",
        "\n",
        "print(\"The sum of even numbers is:\", sum)"
      ]
    }
  ]
}