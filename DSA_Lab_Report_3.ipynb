{
  "nbformat": 4,
  "nbformat_minor": 0,
  "metadata": {
    "colab": {
      "provenance": [],
      "authorship_tag": "ABX9TyO11D56ikKExQpdZxNEnfFM",
      "include_colab_link": true
    },
    "kernelspec": {
      "name": "python3",
      "display_name": "Python 3"
    },
    "language_info": {
      "name": "python"
    }
  },
  "cells": [
    {
      "cell_type": "markdown",
      "metadata": {
        "id": "view-in-github",
        "colab_type": "text"
      },
      "source": [
        "<a href=\"https://colab.research.google.com/github/Bryan-Villanueva/CPE-201L-DSA-2-A/blob/main/DSA_Lab_Report_3.ipynb\" target=\"_parent\"><img src=\"https://colab.research.google.com/assets/colab-badge.svg\" alt=\"Open In Colab\"/></a>"
      ]
    },
    {
      "cell_type": "markdown",
      "source": [
        "**Algorithm That Add Even Numbers**"
      ],
      "metadata": {
        "id": "Q1sdxatsabOC"
      }
    },
    {
      "cell_type": "code",
      "execution_count": 44,
      "metadata": {
        "colab": {
          "base_uri": "https://localhost:8080/"
        },
        "id": "CuXKqiojYMNl",
        "outputId": "c739c12f-354d-4a74-c4b2-842bc083436c"
      },
      "outputs": [
        {
          "output_type": "stream",
          "name": "stdout",
          "text": [
            "The sum of even numbers is: 186\n"
          ]
        }
      ],
      "source": [
        "sum = 0\n",
        "\n",
        "numbers = [26, 49, 98, 87, 62, 75]\n",
        "\n",
        "for number in numbers:\n",
        "\n",
        "    if number % 2 == 0:\n",
        "\n",
        "        sum = sum + number\n",
        "\n",
        "print(\"The sum of even numbers is:\", sum)"
      ]
    }
  ]
}