{
  "nbformat": 4,
  "nbformat_minor": 0,
  "metadata": {
    "colab": {
      "provenance": [],
      "authorship_tag": "ABX9TyMTVlZ41JhRjVK4ZslhmQYu",
      "include_colab_link": true
    },
    "kernelspec": {
      "name": "python3",
      "display_name": "Python 3"
    },
    "language_info": {
      "name": "python"
    }
  },
  "cells": [
    {
      "cell_type": "markdown",
      "metadata": {
        "id": "view-in-github",
        "colab_type": "text"
      },
      "source": [
        "<a href=\"https://colab.research.google.com/github/Bryan-Villanueva/CPE-201L-DSA-2-A/blob/main/DSA_Activity_1.ipynb\" target=\"_parent\"><img src=\"https://colab.research.google.com/assets/colab-badge.svg\" alt=\"Open In Colab\"/></a>"
      ]
    },
    {
      "cell_type": "markdown",
      "source": [
        "**Algorithm 1**"
      ],
      "metadata": {
        "id": "kjF_1Sbb2Xrn"
      }
    },
    {
      "cell_type": "code",
      "execution_count": 21,
      "metadata": {
        "id": "flOMYfNnrust",
        "colab": {
          "base_uri": "https://localhost:8080/"
        },
        "outputId": "a002d170-8666-492a-ddb6-390ce3f765e9"
      },
      "outputs": [
        {
          "output_type": "stream",
          "name": "stdout",
          "text": [
            "Enter Radius: 12\n",
            "The area of circle is 452.39\n"
          ]
        }
      ],
      "source": [
        "radius = input(\"Enter Radius: \")\n",
        "radius = float(radius)\n",
        "pi = 3.14159\n",
        "\n",
        "area = (pi * radius * radius)\n",
        "\n",
        "print(f\"The area of circle is {area:.2f}\")"
      ]
    },
    {
      "cell_type": "markdown",
      "source": [
        "**Algorithm 2**"
      ],
      "metadata": {
        "id": "i3-lu0GF2cGO"
      }
    },
    {
      "cell_type": "code",
      "source": [
        "diameter = input(\"Enter Diameter: \")\n",
        "diameter = float(diameter)\n",
        "pi = 3.14159\n",
        "\n",
        "radius = (diameter / 2)\n",
        "\n",
        "area = (pi * radius * radius)\n",
        "\n",
        "print(f\"The area of circle is {area:.2f}\")"
      ],
      "metadata": {
        "colab": {
          "base_uri": "https://localhost:8080/"
        },
        "id": "UR-vmqyB2fq-",
        "outputId": "5d8c2b65-4018-4337-c2a1-93431604be73"
      },
      "execution_count": 22,
      "outputs": [
        {
          "output_type": "stream",
          "name": "stdout",
          "text": [
            "Enter Diameter: 24\n",
            "The area of circle is 452.39\n"
          ]
        }
      ]
    }
  ]
}