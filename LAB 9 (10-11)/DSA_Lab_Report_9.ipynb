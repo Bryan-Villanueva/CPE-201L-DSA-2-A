{
  "nbformat": 4,
  "nbformat_minor": 0,
  "metadata": {
    "colab": {
      "provenance": [],
      "authorship_tag": "ABX9TyNLJ2TcevL8stcmWYPLr++J",
      "include_colab_link": true
    },
    "kernelspec": {
      "name": "python3",
      "display_name": "Python 3"
    },
    "language_info": {
      "name": "python"
    }
  },
  "cells": [
    {
      "cell_type": "markdown",
      "metadata": {
        "id": "view-in-github",
        "colab_type": "text"
      },
      "source": [
        "<a href=\"https://colab.research.google.com/github/Bryan-Villanueva/CPE-201L-DSA-2-A/blob/main/DSA_Lab_Report_9.ipynb\" target=\"_parent\"><img src=\"https://colab.research.google.com/assets/colab-badge.svg\" alt=\"Open In Colab\"/></a>"
      ]
    },
    {
      "cell_type": "markdown",
      "source": [
        "**STACKS**"
      ],
      "metadata": {
        "id": "gxGsPwHAqoBT"
      }
    },
    {
      "cell_type": "code",
      "execution_count": 1,
      "metadata": {
        "colab": {
          "base_uri": "https://localhost:8080/"
        },
        "id": "JP9ihpT5iQfA",
        "outputId": "edce78ba-96cc-4352-9b2c-9a6010f8317b"
      },
      "outputs": [
        {
          "output_type": "stream",
          "name": "stdout",
          "text": [
            "Pushed Element: 1\n",
            "Pushed Element: 2\n",
            "Pushed Element: 3\n",
            "Pushed Element: 4\n",
            "Pushed Element: 5\n",
            "The elements in the stack are:['1', '2', '3', '4', '5']\n"
          ]
        }
      ],
      "source": [
        "# Stack implementation in python\n",
        "\n",
        "# Creating a stack\n",
        "def create_stack():\n",
        "    stack = []\n",
        "    return stack\n",
        "\n",
        "# Creating an empty stack\n",
        "def is_empty(stack):\n",
        "    return len(stack) == 0\n",
        "\n",
        "# Adding items into the stack\n",
        "def push(stack, item):\n",
        "    stack.append(item)\n",
        "    print(\"Pushed Element: \" + item)\n",
        "\n",
        "# Removing an element from the stack\n",
        "def pop(stack):\n",
        "    if (is_empty(stack)):\n",
        "        return \"The stack is empty\"\n",
        "    return stack.pop()\n",
        "\n",
        "stack = create_stack()\n",
        "push(stack, str(1))\n",
        "push(stack, str(2))\n",
        "push(stack, str(3))\n",
        "push(stack, str(4))\n",
        "push(stack, str(5))\n",
        "\n",
        "print(\"The elements in the stack are:\"+ str(stack))"
      ]
    },
    {
      "cell_type": "markdown",
      "source": [
        "**QUEUES**"
      ],
      "metadata": {
        "id": "6rOTLhczqtPi"
      }
    },
    {
      "cell_type": "code",
      "source": [
        "# Queue Linked List\n",
        "\n",
        "# Node class\n",
        "class Node:\n",
        "    def __init__(self, data):\n",
        "        self.data = data\n",
        "        self.next = None\n",
        "\n",
        "# Class\n",
        "class Queue:\n",
        "    def __init__(self):\n",
        "        self.front = None\n",
        "        self.rear = None\n",
        "\n",
        "    # Check if queue is empty\n",
        "    def is_empty(self):\n",
        "        return self.front is None\n",
        "\n",
        "    # Enqueue\n",
        "    def enqueue(self, item):\n",
        "        new_node = Node(item)\n",
        "        if self.rear is None:\n",
        "            self.front = self.rear = new_node\n",
        "        else:\n",
        "            self.rear.next = new_node\n",
        "            self.rear = new_node\n",
        "        print(\"Enqueued Element: \" + str(item))\n",
        "\n",
        "    # Dequeue\n",
        "    def dequeue(self):\n",
        "        if self.is_empty():\n",
        "            return \"The queue is empty\"\n",
        "        temp = self.front\n",
        "        self.front = temp.next\n",
        "        if self.front is None:\n",
        "            self.rear = None\n",
        "        return temp.data\n",
        "\n",
        "    # Display\n",
        "    def display(self):\n",
        "        if self.is_empty():\n",
        "            print(\"The queue is empty\")\n",
        "            return\n",
        "        current = self.front\n",
        "        print(\"The elements in the queue are:\", end=\" \")\n",
        "        while current:\n",
        "            print(current.data, end=\" \")\n",
        "            current = current.next\n",
        "        print()\n",
        "\n",
        "queue = Queue()\n",
        "queue.enqueue(1)\n",
        "queue.enqueue(2)\n",
        "queue.enqueue(3)\n",
        "queue.enqueue(4)\n",
        "queue.enqueue(5)\n",
        "\n",
        "queue.display()"
      ],
      "metadata": {
        "colab": {
          "base_uri": "https://localhost:8080/"
        },
        "id": "EUgxsg0doYoy",
        "outputId": "9e8c06ef-f9eb-40bb-b773-c7f13fae203d"
      },
      "execution_count": 3,
      "outputs": [
        {
          "output_type": "stream",
          "name": "stdout",
          "text": [
            "Enqueued Element: 1\n",
            "Enqueued Element: 2\n",
            "Enqueued Element: 3\n",
            "Enqueued Element: 4\n",
            "Enqueued Element: 5\n",
            "The elements in the queue are: 1 2 3 4 5 \n"
          ]
        }
      ]
    }
  ]
}