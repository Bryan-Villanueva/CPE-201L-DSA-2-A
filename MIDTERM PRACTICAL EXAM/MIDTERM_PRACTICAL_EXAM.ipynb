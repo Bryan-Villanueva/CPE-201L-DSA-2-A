{
  "nbformat": 4,
  "nbformat_minor": 0,
  "metadata": {
    "colab": {
      "provenance": [],
      "authorship_tag": "ABX9TyMBrukW1ZHV3w3gtaMiye5O",
      "include_colab_link": true
    },
    "kernelspec": {
      "name": "python3",
      "display_name": "Python 3"
    },
    "language_info": {
      "name": "python"
    }
  },
  "cells": [
    {
      "cell_type": "markdown",
      "metadata": {
        "id": "view-in-github",
        "colab_type": "text"
      },
      "source": [
        "<a href=\"https://colab.research.google.com/github/Bryan-Villanueva/CPE-201L-DSA-2-A/blob/main/MIDTERM_PRACTICAL_EXAM.ipynb\" target=\"_parent\"><img src=\"https://colab.research.google.com/assets/colab-badge.svg\" alt=\"Open In Colab\"/></a>"
      ]
    },
    {
      "cell_type": "markdown",
      "source": [
        "# **Singly Linked List**"
      ],
      "metadata": {
        "id": "mZlcMXb4Hp--"
      }
    },
    {
      "cell_type": "code",
      "source": [
        "class Node:\n",
        "    def __init__(self, data):\n",
        "        self.data = data\n",
        "        self.next = None\n",
        "\n",
        "class SinglyLinkedList:\n",
        "    def __init__(self):\n",
        "        self.head = None\n",
        "\n",
        "    def display(self):\n",
        "        current = self.head\n",
        "        if not current:\n",
        "            return\n",
        "        print(\"Linked List:\", end=\" \")\n",
        "        while current:\n",
        "            print(current.data, end=\" -> \")\n",
        "            current = current.next\n",
        "        print(\"Null\")\n",
        "\n",
        "    def append(self, data):\n",
        "        new_node = Node(data)\n",
        "        if not self.head:\n",
        "            self.head = new_node\n",
        "            return\n",
        "        current = self.head\n",
        "        while current.next:\n",
        "            current = current.next\n",
        "        current.next = new_node\n",
        "\n",
        "    def delete(self, data):\n",
        "        current = self.head\n",
        "        if not current:\n",
        "            return\n",
        "\n",
        "        if current.data == data:\n",
        "            self.head = current.next\n",
        "            return\n",
        "\n",
        "        prev = None\n",
        "        while current and current.data != data:\n",
        "            prev = current\n",
        "            current = current.next\n",
        "\n",
        "        if not current:\n",
        "            return\n",
        "\n",
        "        prev.next = current.next\n",
        "\n",
        "linked_list = SinglyLinkedList()\n",
        "for i in range(1, 31, 2):\n",
        "    linked_list.append(i)\n",
        "\n",
        "linked_list.display()\n",
        "\n",
        "linked_list.append(33)\n",
        "print(\"\\nAfter appending 33:\")\n",
        "linked_list.display()\n",
        "\n",
        "linked_list.delete(7)\n",
        "print(\"\\nAfter deleting 7:\")\n",
        "linked_list.display()"
      ],
      "metadata": {
        "colab": {
          "base_uri": "https://localhost:8080/"
        },
        "id": "zBHJCJwwIeh8",
        "outputId": "1e5c218e-20f5-4df1-bb40-1bc0f9ffad7e"
      },
      "execution_count": 18,
      "outputs": [
        {
          "output_type": "stream",
          "name": "stdout",
          "text": [
            "Linked List: 1 -> 3 -> 5 -> 7 -> 9 -> 11 -> 13 -> 15 -> 17 -> 19 -> 21 -> 23 -> 25 -> 27 -> 29 -> Null\n",
            "\n",
            "After appending 33:\n",
            "Linked List: 1 -> 3 -> 5 -> 7 -> 9 -> 11 -> 13 -> 15 -> 17 -> 19 -> 21 -> 23 -> 25 -> 27 -> 29 -> 33 -> Null\n",
            "\n",
            "After deleting 7:\n",
            "Linked List: 1 -> 3 -> 5 -> 9 -> 11 -> 13 -> 15 -> 17 -> 19 -> 21 -> 23 -> 25 -> 27 -> 29 -> 33 -> Null\n"
          ]
        }
      ]
    }
  ]
}