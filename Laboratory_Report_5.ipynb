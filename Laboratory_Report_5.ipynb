{
  "nbformat": 4,
  "nbformat_minor": 0,
  "metadata": {
    "colab": {
      "provenance": [],
      "authorship_tag": "ABX9TyN9cD6jfQ/1gGVHFz+KjlzO",
      "include_colab_link": true
    },
    "kernelspec": {
      "name": "python3",
      "display_name": "Python 3"
    },
    "language_info": {
      "name": "python"
    }
  },
  "cells": [
    {
      "cell_type": "markdown",
      "metadata": {
        "id": "view-in-github",
        "colab_type": "text"
      },
      "source": [
        "<a href=\"https://colab.research.google.com/github/Bryan-Villanueva/CPE-201L-DSA-2-A/blob/main/Laboratory_Report_5.ipynb\" target=\"_parent\"><img src=\"https://colab.research.google.com/assets/colab-badge.svg\" alt=\"Open In Colab\"/></a>"
      ]
    },
    {
      "cell_type": "markdown",
      "source": [
        "SUM OF THE ALL ELEMENTS"
      ],
      "metadata": {
        "id": "6fKk4N3mOKcO"
      }
    },
    {
      "cell_type": "code",
      "execution_count": 8,
      "metadata": {
        "id": "TTrFlNVqGHHo",
        "colab": {
          "base_uri": "https://localhost:8080/"
        },
        "outputId": "f77d82c6-73a3-48d7-c283-fc91306e1f20"
      },
      "outputs": [
        {
          "output_type": "stream",
          "name": "stdout",
          "text": [
            "Array: [1, 2, 3, 4, 5, 6, 7, 8, 9, 10]\n",
            "Element at index 0: 1\n",
            "Element at index 1: 2\n",
            "Element at index 2: 3\n",
            "Element at index 3: 4\n",
            "Element at index 4: 5\n",
            "Element at index 5: 6\n",
            "Element at index 6: 7\n",
            "Element at index 7: 8\n",
            "Element at index 8: 9\n",
            "Element at index 9: 10\n",
            "Sum of all elements: 55\n"
          ]
        }
      ],
      "source": [
        "numbers = [1, 2, 3, 4, 5, 6, 7, 8, 9, 10]\n",
        "\n",
        "print(\"Array:\", numbers)\n",
        "\n",
        "for index, item in enumerate(numbers):\n",
        "    print(f\"Element at index {index}: {item}\")\n",
        "\n",
        "total_sum = sum(numbers)\n",
        "print(\"Sum of all elements:\", total_sum)"
      ]
    },
    {
      "cell_type": "markdown",
      "source": [
        "APPEND NEW ITEM"
      ],
      "metadata": {
        "id": "ogQd2IuCQPH-"
      }
    },
    {
      "cell_type": "code",
      "source": [
        "numbers = [1, 2, 3, 4, 5, 6, 7, 8, 9, 10]\n",
        "print(\"Original array:\", numbers)\n",
        "\n",
        "numbers.append(11)\n",
        "print(\"Appending the new item:\", numbers)"
      ],
      "metadata": {
        "colab": {
          "base_uri": "https://localhost:8080/"
        },
        "id": "JHwPrUlERFhn",
        "outputId": "eaadba22-2d36-4c38-db69-6e9e8728b7c3"
      },
      "execution_count": 10,
      "outputs": [
        {
          "output_type": "stream",
          "name": "stdout",
          "text": [
            "Original array: [1, 2, 3, 4, 5, 6, 7, 8, 9, 10]\n",
            "Appending the new item: [1, 2, 3, 4, 5, 6, 7, 8, 9, 10, 11]\n"
          ]
        }
      ]
    },
    {
      "cell_type": "markdown",
      "source": [
        "INSERTING NEW ITEM"
      ],
      "metadata": {
        "id": "1bYUaUtfRS4W"
      }
    },
    {
      "cell_type": "code",
      "source": [
        "numbers = [1, 2, 3, 4, 5, 6, 7, 8, 9, 10]\n",
        "print(\"Original array:\", numbers)\n",
        "\n",
        "new_number = int(input(\"Enter a number to insert before the second element: \"))\n",
        "\n",
        "numbers.insert(1, new_number)\n",
        "\n",
        "print(\"After inserting\", new_number, \"before the second element:\", numbers)"
      ],
      "metadata": {
        "colab": {
          "base_uri": "https://localhost:8080/"
        },
        "id": "1YSt8Yt1RXXm",
        "outputId": "6c1c3c6b-8b71-4278-9a62-60866c3933c2"
      },
      "execution_count": 9,
      "outputs": [
        {
          "output_type": "stream",
          "name": "stdout",
          "text": [
            "Original array: [1, 2, 3, 4, 5, 6, 7, 8, 9, 10]\n",
            "Enter a number to insert before the second element: 69\n",
            "After inserting 69 before the second element: [1, 69, 2, 3, 4, 5, 6, 7, 8, 9, 10]\n"
          ]
        }
      ]
    },
    {
      "cell_type": "markdown",
      "source": [
        "REVERSING THE ARRAY"
      ],
      "metadata": {
        "id": "haR8SPPlUMFm"
      }
    },
    {
      "cell_type": "code",
      "source": [
        "numbers = [5, 4, 3, 2, 1]\n",
        "print(\"Original array:\", numbers)\n",
        "\n",
        "numbers.reverse()\n",
        "print(\"Reversed array:\", numbers)\n"
      ],
      "metadata": {
        "colab": {
          "base_uri": "https://localhost:8080/"
        },
        "id": "BDCWjkhEURVM",
        "outputId": "72b78632-af7a-4153-e8d3-270de2f772b4"
      },
      "execution_count": 6,
      "outputs": [
        {
          "output_type": "stream",
          "name": "stdout",
          "text": [
            "Original array: [5, 4, 3, 2, 1]\n",
            "Reversed array: [1, 2, 3, 4, 5]\n"
          ]
        }
      ]
    },
    {
      "cell_type": "markdown",
      "source": [
        "GETTING THE LENGTH"
      ],
      "metadata": {
        "id": "fM3lN7kaUVAW"
      }
    },
    {
      "cell_type": "code",
      "source": [
        "numbers = [5, 4, 3, 2, 1]\n",
        "print(\"Array:\", numbers)\n",
        "\n",
        "length = len(numbers)\n",
        "print(\"Length of the array:\", length)\n"
      ],
      "metadata": {
        "colab": {
          "base_uri": "https://localhost:8080/"
        },
        "id": "Fav_OhkPUd-m",
        "outputId": "791684fa-4688-4f14-9f70-8264f1bcafc3"
      },
      "execution_count": 7,
      "outputs": [
        {
          "output_type": "stream",
          "name": "stdout",
          "text": [
            "Array: [5, 4, 3, 2, 1]\n",
            "Length of the array: 5\n"
          ]
        }
      ]
    }
  ]
}